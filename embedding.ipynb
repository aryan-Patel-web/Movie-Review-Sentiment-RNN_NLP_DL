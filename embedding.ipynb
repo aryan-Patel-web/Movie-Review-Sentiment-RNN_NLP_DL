{
 "cells": [
  {
   "cell_type": "code",
   "execution_count": 75,
   "id": "e80805c9",
   "metadata": {},
   "outputs": [
    {
     "name": "stdout",
     "output_type": "stream",
     "text": [
      "Defaulting to user installation because normal site-packages is not writeable\n",
      "Requirement already satisfied: tensorflow in c:\\users\\aryan\\appdata\\roaming\\python\\python312\\site-packages (2.19.0)\n",
      "Requirement already satisfied: absl-py>=1.0.0 in c:\\users\\aryan\\appdata\\roaming\\python\\python312\\site-packages (from tensorflow) (2.3.0)\n",
      "Requirement already satisfied: astunparse>=1.6.0 in c:\\users\\aryan\\appdata\\roaming\\python\\python312\\site-packages (from tensorflow) (1.6.3)\n",
      "Requirement already satisfied: flatbuffers>=24.3.25 in c:\\users\\aryan\\appdata\\roaming\\python\\python312\\site-packages (from tensorflow) (25.2.10)\n",
      "Requirement already satisfied: gast!=0.5.0,!=0.5.1,!=0.5.2,>=0.2.1 in c:\\users\\aryan\\appdata\\roaming\\python\\python312\\site-packages (from tensorflow) (0.6.0)\n",
      "Requirement already satisfied: google-pasta>=0.1.1 in c:\\users\\aryan\\appdata\\roaming\\python\\python312\\site-packages (from tensorflow) (0.2.0)\n",
      "Requirement already satisfied: libclang>=13.0.0 in c:\\users\\aryan\\appdata\\roaming\\python\\python312\\site-packages (from tensorflow) (18.1.1)\n",
      "Requirement already satisfied: opt-einsum>=2.3.2 in c:\\users\\aryan\\appdata\\roaming\\python\\python312\\site-packages (from tensorflow) (3.4.0)\n",
      "Requirement already satisfied: packaging in c:\\users\\aryan\\appdata\\roaming\\python\\python312\\site-packages (from tensorflow) (25.0)\n",
      "Requirement already satisfied: protobuf!=4.21.0,!=4.21.1,!=4.21.2,!=4.21.3,!=4.21.4,!=4.21.5,<6.0.0dev,>=3.20.3 in c:\\users\\aryan\\appdata\\roaming\\python\\python312\\site-packages (from tensorflow) (5.29.5)\n",
      "Requirement already satisfied: requests<3,>=2.21.0 in c:\\users\\aryan\\appdata\\roaming\\python\\python312\\site-packages (from tensorflow) (2.32.3)\n",
      "Requirement already satisfied: setuptools in c:\\users\\aryan\\appdata\\roaming\\python\\python312\\site-packages (from tensorflow) (80.9.0)\n",
      "Requirement already satisfied: six>=1.12.0 in c:\\users\\aryan\\appdata\\roaming\\python\\python312\\site-packages (from tensorflow) (1.17.0)\n",
      "Requirement already satisfied: termcolor>=1.1.0 in c:\\users\\aryan\\appdata\\roaming\\python\\python312\\site-packages (from tensorflow) (3.1.0)\n",
      "Requirement already satisfied: typing-extensions>=3.6.6 in c:\\users\\aryan\\appdata\\roaming\\python\\python312\\site-packages (from tensorflow) (4.14.0)\n",
      "Requirement already satisfied: wrapt>=1.11.0 in c:\\users\\aryan\\appdata\\roaming\\python\\python312\\site-packages (from tensorflow) (1.17.2)\n",
      "Requirement already satisfied: grpcio<2.0,>=1.24.3 in c:\\users\\aryan\\appdata\\roaming\\python\\python312\\site-packages (from tensorflow) (1.72.1)\n",
      "Requirement already satisfied: tensorboard~=2.19.0 in c:\\users\\aryan\\appdata\\roaming\\python\\python312\\site-packages (from tensorflow) (2.19.0)\n",
      "Requirement already satisfied: keras>=3.5.0 in c:\\users\\aryan\\appdata\\roaming\\python\\python312\\site-packages (from tensorflow) (3.10.0)\n",
      "Requirement already satisfied: numpy<2.2.0,>=1.26.0 in c:\\users\\aryan\\appdata\\roaming\\python\\python312\\site-packages (from tensorflow) (1.26.4)\n",
      "Requirement already satisfied: h5py>=3.11.0 in c:\\users\\aryan\\appdata\\roaming\\python\\python312\\site-packages (from tensorflow) (3.14.0)\n",
      "Requirement already satisfied: ml-dtypes<1.0.0,>=0.5.1 in c:\\users\\aryan\\appdata\\roaming\\python\\python312\\site-packages (from tensorflow) (0.5.1)\n",
      "Requirement already satisfied: charset-normalizer<4,>=2 in c:\\users\\aryan\\appdata\\roaming\\python\\python312\\site-packages (from requests<3,>=2.21.0->tensorflow) (3.4.2)\n",
      "Requirement already satisfied: idna<4,>=2.5 in c:\\users\\aryan\\appdata\\roaming\\python\\python312\\site-packages (from requests<3,>=2.21.0->tensorflow) (3.10)\n",
      "Requirement already satisfied: urllib3<3,>=1.21.1 in c:\\users\\aryan\\appdata\\roaming\\python\\python312\\site-packages (from requests<3,>=2.21.0->tensorflow) (2.4.0)\n",
      "Requirement already satisfied: certifi>=2017.4.17 in c:\\users\\aryan\\appdata\\roaming\\python\\python312\\site-packages (from requests<3,>=2.21.0->tensorflow) (2025.4.26)\n",
      "Requirement already satisfied: markdown>=2.6.8 in c:\\users\\aryan\\appdata\\roaming\\python\\python312\\site-packages (from tensorboard~=2.19.0->tensorflow) (3.8)\n",
      "Requirement already satisfied: tensorboard-data-server<0.8.0,>=0.7.0 in c:\\users\\aryan\\appdata\\roaming\\python\\python312\\site-packages (from tensorboard~=2.19.0->tensorflow) (0.7.2)\n",
      "Requirement already satisfied: werkzeug>=1.0.1 in c:\\users\\aryan\\appdata\\roaming\\python\\python312\\site-packages (from tensorboard~=2.19.0->tensorflow) (3.1.3)\n",
      "Requirement already satisfied: wheel<1.0,>=0.23.0 in c:\\users\\aryan\\appdata\\roaming\\python\\python312\\site-packages (from astunparse>=1.6.0->tensorflow) (0.45.1)\n",
      "Requirement already satisfied: rich in c:\\users\\aryan\\appdata\\roaming\\python\\python312\\site-packages (from keras>=3.5.0->tensorflow) (14.0.0)\n",
      "Requirement already satisfied: namex in c:\\users\\aryan\\appdata\\roaming\\python\\python312\\site-packages (from keras>=3.5.0->tensorflow) (0.1.0)\n",
      "Requirement already satisfied: optree in c:\\users\\aryan\\appdata\\roaming\\python\\python312\\site-packages (from keras>=3.5.0->tensorflow) (0.16.0)\n",
      "Requirement already satisfied: MarkupSafe>=2.1.1 in c:\\users\\aryan\\appdata\\roaming\\python\\python312\\site-packages (from werkzeug>=1.0.1->tensorboard~=2.19.0->tensorflow) (3.0.2)\n",
      "Requirement already satisfied: markdown-it-py>=2.2.0 in c:\\users\\aryan\\appdata\\roaming\\python\\python312\\site-packages (from rich->keras>=3.5.0->tensorflow) (3.0.0)\n",
      "Requirement already satisfied: pygments<3.0.0,>=2.13.0 in c:\\users\\aryan\\appdata\\roaming\\python\\python312\\site-packages (from rich->keras>=3.5.0->tensorflow) (2.19.1)\n",
      "Requirement already satisfied: mdurl~=0.1 in c:\\users\\aryan\\appdata\\roaming\\python\\python312\\site-packages (from markdown-it-py>=2.2.0->rich->keras>=3.5.0->tensorflow) (0.1.2)\n",
      "Note: you may need to restart the kernel to use updated packages.\n"
     ]
    }
   ],
   "source": [
    "%pip install tensorflow\n",
    "\n",
    "from tensorflow.keras.preprocessing.text import one_hot"
   ]
  },
  {
   "cell_type": "markdown",
   "id": "3578c0f1",
   "metadata": {},
   "source": [
    "# Example usage of one_hot encoding"
   ]
  },
  {
   "cell_type": "code",
   "execution_count": 76,
   "id": "42ed08b4",
   "metadata": {},
   "outputs": [],
   "source": [
    "\n",
    "\n",
    "sent = [\n",
    "    'the glass of milk',\n",
    "    'the glass of juice',\n",
    "    'the cup of tea',\n",
    "    'I am a good boy',\n",
    "    'I am a good developer',\n",
    "    'understand the meaning of words',\n",
    "    'your videos are good'\n",
    "    \n",
    "]"
   ]
  },
  {
   "cell_type": "code",
   "execution_count": 77,
   "id": "9c9e0612",
   "metadata": {},
   "outputs": [
    {
     "data": {
      "text/plain": [
       "['the glass of milk',\n",
       " 'the glass of juice',\n",
       " 'the cup of tea',\n",
       " 'I am a good boy',\n",
       " 'I am a good developer',\n",
       " 'understand the meaning of words',\n",
       " 'your videos are good']"
      ]
     },
     "execution_count": 77,
     "metadata": {},
     "output_type": "execute_result"
    }
   ],
   "source": [
    "sent"
   ]
  },
  {
   "cell_type": "markdown",
   "id": "81970b92",
   "metadata": {},
   "source": [
    "# Define the  ------------ vocabulary size"
   ]
  },
  {
   "cell_type": "code",
   "execution_count": 78,
   "id": "46a031eb",
   "metadata": {},
   "outputs": [],
   "source": [
    "voc_size = 10000"
   ]
  },
  {
   "cell_type": "markdown",
   "id": "d8dd3dcf",
   "metadata": {},
   "source": [
    "# one-hot Representation"
   ]
  },
  {
   "cell_type": "code",
   "execution_count": 79,
   "id": "b4502c2d",
   "metadata": {},
   "outputs": [
    {
     "data": {
      "text/plain": [
       "['the glass of milk',\n",
       " 'the glass of juice',\n",
       " 'the cup of tea',\n",
       " 'I am a good boy',\n",
       " 'I am a good developer',\n",
       " 'understand the meaning of words',\n",
       " 'your videos are good']"
      ]
     },
     "execution_count": 79,
     "metadata": {},
     "output_type": "execute_result"
    }
   ],
   "source": [
    "sent"
   ]
  },
  {
   "cell_type": "code",
   "execution_count": 80,
   "id": "9a2e8217",
   "metadata": {},
   "outputs": [
    {
     "data": {
      "text/plain": [
       "[[9118, 2198, 319, 5989],\n",
       " [9118, 2198, 319, 2891],\n",
       " [9118, 7041, 319, 1082],\n",
       " [5184, 7907, 6344, 4626, 115],\n",
       " [5184, 7907, 6344, 4626, 8886],\n",
       " [9827, 9118, 5749, 319, 1358],\n",
       " [7968, 6120, 771, 4626]]"
      ]
     },
     "execution_count": 80,
     "metadata": {},
     "output_type": "execute_result"
    }
   ],
   "source": [
    "one_hot_repr = [one_hot(sentence, voc_size) for sentence in sent]\n",
    "\n",
    "one_hot_repr"
   ]
  },
  {
   "cell_type": "markdown",
   "id": "4efdb9cc",
   "metadata": {},
   "source": [
    "#  the glass of milk  is -- coverted into this 10000 vectors == \n",
    "\n",
    "[9118, 2198, 319, 5989]"
   ]
  },
  {
   "cell_type": "markdown",
   "id": "21f1856e",
   "metadata": {},
   "source": [
    "# word embedding representation"
   ]
  },
  {
   "cell_type": "code",
   "execution_count": 81,
   "id": "c4fdd920",
   "metadata": {},
   "outputs": [],
   "source": [
    "from tensorflow.keras.layers import Embedding\n",
    "# from tensorflow.keras.preprocessing.sequence import pad_sequences\n",
    "from tensorflow.keras.models import Sequential\n",
    "from tensorflow.keras.utils import pad_sequences"
   ]
  },
  {
   "cell_type": "code",
   "execution_count": 82,
   "id": "8bda3f0c",
   "metadata": {},
   "outputs": [],
   "source": [
    "import numpy as np"
   ]
  },
  {
   "cell_type": "markdown",
   "id": "e09bfbab",
   "metadata": {},
   "source": [
    "# because all words are in diff sizes like 5 , 4 etc to resize same length\n",
    "\n",
    "sent_length = 8\n",
    "\n",
    "if any sentence is 5 then 3 zero will be added to make it 8 length add 'pre' padding for same size "
   ]
  },
  {
   "cell_type": "code",
   "execution_count": 83,
   "id": "e3e196bd",
   "metadata": {},
   "outputs": [
    {
     "name": "stdout",
     "output_type": "stream",
     "text": [
      "[[   0    0    0    0 9118 2198  319 5989]\n",
      " [   0    0    0    0 9118 2198  319 2891]\n",
      " [   0    0    0    0 9118 7041  319 1082]\n",
      " [   0    0    0 5184 7907 6344 4626  115]\n",
      " [   0    0    0 5184 7907 6344 4626 8886]\n",
      " [   0    0    0 9827 9118 5749  319 1358]\n",
      " [   0    0    0    0 7968 6120  771 4626]]\n"
     ]
    }
   ],
   "source": [
    "sent_length = 8\n",
    "embedding_docs = pad_sequences(one_hot_repr, padding='pre', maxlen=sent_length)\n",
    "\n",
    "print(embedding_docs)"
   ]
  },
  {
   "cell_type": "code",
   "execution_count": 84,
   "id": "696f11ac",
   "metadata": {},
   "outputs": [],
   "source": [
    "# sent_length = 8\n",
    "# embedding_docs = pad_sequences(one_hot_repr, padding='post', maxlen=sent_length)\n",
    "\n",
    "# print(embedding_docs)"
   ]
  },
  {
   "cell_type": "markdown",
   "id": "9fc0f895",
   "metadata": {},
   "source": [
    "# feature representation"
   ]
  },
  {
   "cell_type": "markdown",
   "id": "312792f5",
   "metadata": {},
   "source": [
    "# dimension"
   ]
  },
  {
   "cell_type": "code",
   "execution_count": 85,
   "id": "7e97c90e",
   "metadata": {},
   "outputs": [],
   "source": [
    "dim = 10"
   ]
  },
  {
   "cell_type": "code",
   "execution_count": 87,
   "id": "5ab31fa5",
   "metadata": {},
   "outputs": [],
   "source": [
    "model = Sequential()\n",
    "\n",
    "model.add(Embedding(voc_size, dim, input_length=sent_length))\n",
    "\n",
    "model.compile(optimizer='adam', loss='mse')\n",
    "\n"
   ]
  },
  {
   "cell_type": "code",
   "execution_count": null,
   "id": "6dd52798",
   "metadata": {},
   "outputs": [
    {
     "data": {
      "text/plain": [
       "<Sequential name=sequential_7, built=True>"
      ]
     },
     "execution_count": 71,
     "metadata": {},
     "output_type": "execute_result"
    }
   ],
   "source": [
    "model"
   ]
  },
  {
   "cell_type": "code",
   "execution_count": null,
   "id": "da08f70d",
   "metadata": {},
   "outputs": [
    {
     "data": {
      "text/html": [
       "<pre style=\"white-space:pre;overflow-x:auto;line-height:normal;font-family:Menlo,'DejaVu Sans Mono',consolas,'Courier New',monospace\"><span style=\"font-weight: bold\">Model: \"sequential_7\"</span>\n",
       "</pre>\n"
      ],
      "text/plain": [
       "\u001b[1mModel: \"sequential_7\"\u001b[0m\n"
      ]
     },
     "metadata": {},
     "output_type": "display_data"
    },
    {
     "data": {
      "text/html": [
       "<pre style=\"white-space:pre;overflow-x:auto;line-height:normal;font-family:Menlo,'DejaVu Sans Mono',consolas,'Courier New',monospace\">┏━━━━━━━━━━━━━━━━━━━━━━━━━━━━━━━━━┳━━━━━━━━━━━━━━━━━━━━━━━━┳━━━━━━━━━━━━━━━┓\n",
       "┃<span style=\"font-weight: bold\"> Layer (type)                    </span>┃<span style=\"font-weight: bold\"> Output Shape           </span>┃<span style=\"font-weight: bold\">       Param # </span>┃\n",
       "┡━━━━━━━━━━━━━━━━━━━━━━━━━━━━━━━━━╇━━━━━━━━━━━━━━━━━━━━━━━━╇━━━━━━━━━━━━━━━┩\n",
       "│ embedding_7 (<span style=\"color: #0087ff; text-decoration-color: #0087ff\">Embedding</span>)         │ (<span style=\"color: #00d7ff; text-decoration-color: #00d7ff\">None</span>, <span style=\"color: #00af00; text-decoration-color: #00af00\">8</span>, <span style=\"color: #00af00; text-decoration-color: #00af00\">10</span>)          │       <span style=\"color: #00af00; text-decoration-color: #00af00\">100,000</span> │\n",
       "└─────────────────────────────────┴────────────────────────┴───────────────┘\n",
       "</pre>\n"
      ],
      "text/plain": [
       "┏━━━━━━━━━━━━━━━━━━━━━━━━━━━━━━━━━┳━━━━━━━━━━━━━━━━━━━━━━━━┳━━━━━━━━━━━━━━━┓\n",
       "┃\u001b[1m \u001b[0m\u001b[1mLayer (type)                   \u001b[0m\u001b[1m \u001b[0m┃\u001b[1m \u001b[0m\u001b[1mOutput Shape          \u001b[0m\u001b[1m \u001b[0m┃\u001b[1m \u001b[0m\u001b[1m      Param #\u001b[0m\u001b[1m \u001b[0m┃\n",
       "┡━━━━━━━━━━━━━━━━━━━━━━━━━━━━━━━━━╇━━━━━━━━━━━━━━━━━━━━━━━━╇━━━━━━━━━━━━━━━┩\n",
       "│ embedding_7 (\u001b[38;5;33mEmbedding\u001b[0m)         │ (\u001b[38;5;45mNone\u001b[0m, \u001b[38;5;34m8\u001b[0m, \u001b[38;5;34m10\u001b[0m)          │       \u001b[38;5;34m100,000\u001b[0m │\n",
       "└─────────────────────────────────┴────────────────────────┴───────────────┘\n"
      ]
     },
     "metadata": {},
     "output_type": "display_data"
    },
    {
     "data": {
      "text/html": [
       "<pre style=\"white-space:pre;overflow-x:auto;line-height:normal;font-family:Menlo,'DejaVu Sans Mono',consolas,'Courier New',monospace\"><span style=\"font-weight: bold\"> Total params: </span><span style=\"color: #00af00; text-decoration-color: #00af00\">100,000</span> (390.62 KB)\n",
       "</pre>\n"
      ],
      "text/plain": [
       "\u001b[1m Total params: \u001b[0m\u001b[38;5;34m100,000\u001b[0m (390.62 KB)\n"
      ]
     },
     "metadata": {},
     "output_type": "display_data"
    },
    {
     "data": {
      "text/html": [
       "<pre style=\"white-space:pre;overflow-x:auto;line-height:normal;font-family:Menlo,'DejaVu Sans Mono',consolas,'Courier New',monospace\"><span style=\"font-weight: bold\"> Trainable params: </span><span style=\"color: #00af00; text-decoration-color: #00af00\">100,000</span> (390.62 KB)\n",
       "</pre>\n"
      ],
      "text/plain": [
       "\u001b[1m Trainable params: \u001b[0m\u001b[38;5;34m100,000\u001b[0m (390.62 KB)\n"
      ]
     },
     "metadata": {},
     "output_type": "display_data"
    },
    {
     "data": {
      "text/html": [
       "<pre style=\"white-space:pre;overflow-x:auto;line-height:normal;font-family:Menlo,'DejaVu Sans Mono',consolas,'Courier New',monospace\"><span style=\"font-weight: bold\"> Non-trainable params: </span><span style=\"color: #00af00; text-decoration-color: #00af00\">0</span> (0.00 B)\n",
       "</pre>\n"
      ],
      "text/plain": [
       "\u001b[1m Non-trainable params: \u001b[0m\u001b[38;5;34m0\u001b[0m (0.00 B)\n"
      ]
     },
     "metadata": {},
     "output_type": "display_data"
    }
   ],
   "source": [
    "model.build(input_shape=(None, sent_length))\n",
    "model.summary()"
   ]
  },
  {
   "cell_type": "code",
   "execution_count": null,
   "id": "dea2a39e",
   "metadata": {},
   "outputs": [
    {
     "data": {
      "text/plain": [
       "array([   0,    0,    0,    0, 9118, 2198,  319, 5989], dtype=int32)"
      ]
     },
     "execution_count": 70,
     "metadata": {},
     "output_type": "execute_result"
    }
   ],
   "source": [
    "embedding_docs[0]"
   ]
  },
  {
   "cell_type": "code",
   "execution_count": null,
   "id": "a65c20f6",
   "metadata": {},
   "outputs": [
    {
     "name": "stdout",
     "output_type": "stream",
     "text": [
      "\u001b[1m1/1\u001b[0m \u001b[32m━━━━━━━━━━━━━━━━━━━━\u001b[0m\u001b[37m\u001b[0m \u001b[1m0s\u001b[0m 126ms/step\n"
     ]
    },
    {
     "data": {
      "text/plain": [
       "array([[[ 0.02478928, -0.04533584, -0.01670442,  0.01774447,\n",
       "         -0.01863657,  0.02845489,  0.04799161, -0.0377317 ,\n",
       "          0.03857556,  0.03933707],\n",
       "        [ 0.02478928, -0.04533584, -0.01670442,  0.01774447,\n",
       "         -0.01863657,  0.02845489,  0.04799161, -0.0377317 ,\n",
       "          0.03857556,  0.03933707],\n",
       "        [ 0.02478928, -0.04533584, -0.01670442,  0.01774447,\n",
       "         -0.01863657,  0.02845489,  0.04799161, -0.0377317 ,\n",
       "          0.03857556,  0.03933707],\n",
       "        [ 0.02478928, -0.04533584, -0.01670442,  0.01774447,\n",
       "         -0.01863657,  0.02845489,  0.04799161, -0.0377317 ,\n",
       "          0.03857556,  0.03933707],\n",
       "        [-0.01309109,  0.04768822, -0.03044368, -0.04854254,\n",
       "          0.01355766,  0.02145742, -0.0060522 ,  0.02181013,\n",
       "          0.03410313, -0.03747837],\n",
       "        [ 0.02005557, -0.04796566,  0.02414929,  0.0455379 ,\n",
       "         -0.00514831, -0.0167082 ,  0.01169473,  0.02198369,\n",
       "         -0.03054493,  0.04505967],\n",
       "        [-0.04317423, -0.00290471, -0.04314464,  0.0191556 ,\n",
       "         -0.00406779, -0.04657058,  0.0429202 , -0.04983169,\n",
       "         -0.04410508,  0.04446073],\n",
       "        [-0.03387097,  0.02639139,  0.01739777,  0.0459412 ,\n",
       "         -0.03894805, -0.01944884,  0.04046666, -0.02782213,\n",
       "          0.03933194, -0.04345883]],\n",
       "\n",
       "       [[ 0.02478928, -0.04533584, -0.01670442,  0.01774447,\n",
       "         -0.01863657,  0.02845489,  0.04799161, -0.0377317 ,\n",
       "          0.03857556,  0.03933707],\n",
       "        [ 0.02478928, -0.04533584, -0.01670442,  0.01774447,\n",
       "         -0.01863657,  0.02845489,  0.04799161, -0.0377317 ,\n",
       "          0.03857556,  0.03933707],\n",
       "        [ 0.02478928, -0.04533584, -0.01670442,  0.01774447,\n",
       "         -0.01863657,  0.02845489,  0.04799161, -0.0377317 ,\n",
       "          0.03857556,  0.03933707],\n",
       "        [ 0.02478928, -0.04533584, -0.01670442,  0.01774447,\n",
       "         -0.01863657,  0.02845489,  0.04799161, -0.0377317 ,\n",
       "          0.03857556,  0.03933707],\n",
       "        [-0.01309109,  0.04768822, -0.03044368, -0.04854254,\n",
       "          0.01355766,  0.02145742, -0.0060522 ,  0.02181013,\n",
       "          0.03410313, -0.03747837],\n",
       "        [ 0.02005557, -0.04796566,  0.02414929,  0.0455379 ,\n",
       "         -0.00514831, -0.0167082 ,  0.01169473,  0.02198369,\n",
       "         -0.03054493,  0.04505967],\n",
       "        [-0.04317423, -0.00290471, -0.04314464,  0.0191556 ,\n",
       "         -0.00406779, -0.04657058,  0.0429202 , -0.04983169,\n",
       "         -0.04410508,  0.04446073],\n",
       "        [ 0.03704486, -0.00967913,  0.00573383,  0.03297177,\n",
       "         -0.037646  ,  0.01343782,  0.00915297,  0.01105817,\n",
       "         -0.04685926,  0.04772539]],\n",
       "\n",
       "       [[ 0.02478928, -0.04533584, -0.01670442,  0.01774447,\n",
       "         -0.01863657,  0.02845489,  0.04799161, -0.0377317 ,\n",
       "          0.03857556,  0.03933707],\n",
       "        [ 0.02478928, -0.04533584, -0.01670442,  0.01774447,\n",
       "         -0.01863657,  0.02845489,  0.04799161, -0.0377317 ,\n",
       "          0.03857556,  0.03933707],\n",
       "        [ 0.02478928, -0.04533584, -0.01670442,  0.01774447,\n",
       "         -0.01863657,  0.02845489,  0.04799161, -0.0377317 ,\n",
       "          0.03857556,  0.03933707],\n",
       "        [ 0.02478928, -0.04533584, -0.01670442,  0.01774447,\n",
       "         -0.01863657,  0.02845489,  0.04799161, -0.0377317 ,\n",
       "          0.03857556,  0.03933707],\n",
       "        [-0.01309109,  0.04768822, -0.03044368, -0.04854254,\n",
       "          0.01355766,  0.02145742, -0.0060522 ,  0.02181013,\n",
       "          0.03410313, -0.03747837],\n",
       "        [-0.03294741,  0.00528305, -0.01996878, -0.01379807,\n",
       "          0.00102479, -0.00824495,  0.03961961, -0.01858759,\n",
       "         -0.01386201,  0.02359929],\n",
       "        [-0.04317423, -0.00290471, -0.04314464,  0.0191556 ,\n",
       "         -0.00406779, -0.04657058,  0.0429202 , -0.04983169,\n",
       "         -0.04410508,  0.04446073],\n",
       "        [-0.02986041, -0.03872162, -0.01293014,  0.04575228,\n",
       "          0.04281477,  0.04498769, -0.02100723, -0.04627377,\n",
       "         -0.00401286, -0.02586234]],\n",
       "\n",
       "       [[ 0.02478928, -0.04533584, -0.01670442,  0.01774447,\n",
       "         -0.01863657,  0.02845489,  0.04799161, -0.0377317 ,\n",
       "          0.03857556,  0.03933707],\n",
       "        [ 0.02478928, -0.04533584, -0.01670442,  0.01774447,\n",
       "         -0.01863657,  0.02845489,  0.04799161, -0.0377317 ,\n",
       "          0.03857556,  0.03933707],\n",
       "        [ 0.02478928, -0.04533584, -0.01670442,  0.01774447,\n",
       "         -0.01863657,  0.02845489,  0.04799161, -0.0377317 ,\n",
       "          0.03857556,  0.03933707],\n",
       "        [-0.04474333,  0.00697893, -0.00850313,  0.0098631 ,\n",
       "         -0.04684341,  0.04186596, -0.04144825,  0.00375817,\n",
       "          0.03938055,  0.03715039],\n",
       "        [-0.03297957,  0.0323653 ,  0.00584555, -0.01662611,\n",
       "          0.00939032,  0.00756479, -0.00663878, -0.0218284 ,\n",
       "          0.00883452, -0.00672818],\n",
       "        [ 0.02355797, -0.04739751,  0.04418219,  0.01641927,\n",
       "          0.04066107,  0.03183654, -0.02843498, -0.01512288,\n",
       "         -0.04478315, -0.04765172],\n",
       "        [-0.03250319, -0.01536297, -0.03655603,  0.00152124,\n",
       "         -0.01342637, -0.04203659, -0.04208932,  0.04341363,\n",
       "          0.04569923,  0.00726372],\n",
       "        [ 0.00181267, -0.01688255,  0.02339921,  0.03015829,\n",
       "         -0.01154704, -0.00481715, -0.01560266,  0.04900737,\n",
       "          0.02203265, -0.02753972]],\n",
       "\n",
       "       [[ 0.02478928, -0.04533584, -0.01670442,  0.01774447,\n",
       "         -0.01863657,  0.02845489,  0.04799161, -0.0377317 ,\n",
       "          0.03857556,  0.03933707],\n",
       "        [ 0.02478928, -0.04533584, -0.01670442,  0.01774447,\n",
       "         -0.01863657,  0.02845489,  0.04799161, -0.0377317 ,\n",
       "          0.03857556,  0.03933707],\n",
       "        [ 0.02478928, -0.04533584, -0.01670442,  0.01774447,\n",
       "         -0.01863657,  0.02845489,  0.04799161, -0.0377317 ,\n",
       "          0.03857556,  0.03933707],\n",
       "        [-0.04474333,  0.00697893, -0.00850313,  0.0098631 ,\n",
       "         -0.04684341,  0.04186596, -0.04144825,  0.00375817,\n",
       "          0.03938055,  0.03715039],\n",
       "        [-0.03297957,  0.0323653 ,  0.00584555, -0.01662611,\n",
       "          0.00939032,  0.00756479, -0.00663878, -0.0218284 ,\n",
       "          0.00883452, -0.00672818],\n",
       "        [ 0.02355797, -0.04739751,  0.04418219,  0.01641927,\n",
       "          0.04066107,  0.03183654, -0.02843498, -0.01512288,\n",
       "         -0.04478315, -0.04765172],\n",
       "        [-0.03250319, -0.01536297, -0.03655603,  0.00152124,\n",
       "         -0.01342637, -0.04203659, -0.04208932,  0.04341363,\n",
       "          0.04569923,  0.00726372],\n",
       "        [ 0.0373635 , -0.01987543, -0.02113958, -0.03800706,\n",
       "         -0.03001622, -0.03378621, -0.01366906,  0.03302056,\n",
       "          0.02009411,  0.03295901]],\n",
       "\n",
       "       [[ 0.02478928, -0.04533584, -0.01670442,  0.01774447,\n",
       "         -0.01863657,  0.02845489,  0.04799161, -0.0377317 ,\n",
       "          0.03857556,  0.03933707],\n",
       "        [ 0.02478928, -0.04533584, -0.01670442,  0.01774447,\n",
       "         -0.01863657,  0.02845489,  0.04799161, -0.0377317 ,\n",
       "          0.03857556,  0.03933707],\n",
       "        [ 0.02478928, -0.04533584, -0.01670442,  0.01774447,\n",
       "         -0.01863657,  0.02845489,  0.04799161, -0.0377317 ,\n",
       "          0.03857556,  0.03933707],\n",
       "        [ 0.03566623,  0.0070434 ,  0.03652474,  0.02761393,\n",
       "          0.00906958,  0.03854923, -0.02852865,  0.01852372,\n",
       "          0.04624212, -0.00902696],\n",
       "        [-0.01309109,  0.04768822, -0.03044368, -0.04854254,\n",
       "          0.01355766,  0.02145742, -0.0060522 ,  0.02181013,\n",
       "          0.03410313, -0.03747837],\n",
       "        [-0.00635146, -0.01448004, -0.03756817,  0.01608027,\n",
       "         -0.01949356,  0.04855362, -0.04186542,  0.04393758,\n",
       "         -0.04062913,  0.00993402],\n",
       "        [-0.04317423, -0.00290471, -0.04314464,  0.0191556 ,\n",
       "         -0.00406779, -0.04657058,  0.0429202 , -0.04983169,\n",
       "         -0.04410508,  0.04446073],\n",
       "        [-0.02158443, -0.01493014,  0.02984301,  0.03336931,\n",
       "          0.04216387, -0.03284119,  0.04255657,  0.03963255,\n",
       "         -0.01114522, -0.00371211]],\n",
       "\n",
       "       [[ 0.02478928, -0.04533584, -0.01670442,  0.01774447,\n",
       "         -0.01863657,  0.02845489,  0.04799161, -0.0377317 ,\n",
       "          0.03857556,  0.03933707],\n",
       "        [ 0.02478928, -0.04533584, -0.01670442,  0.01774447,\n",
       "         -0.01863657,  0.02845489,  0.04799161, -0.0377317 ,\n",
       "          0.03857556,  0.03933707],\n",
       "        [ 0.02478928, -0.04533584, -0.01670442,  0.01774447,\n",
       "         -0.01863657,  0.02845489,  0.04799161, -0.0377317 ,\n",
       "          0.03857556,  0.03933707],\n",
       "        [ 0.02478928, -0.04533584, -0.01670442,  0.01774447,\n",
       "         -0.01863657,  0.02845489,  0.04799161, -0.0377317 ,\n",
       "          0.03857556,  0.03933707],\n",
       "        [-0.0436345 , -0.00741944, -0.00713687, -0.01047497,\n",
       "          0.00330435, -0.04556011,  0.04782229, -0.03114342,\n",
       "          0.02193076, -0.04088736],\n",
       "        [-0.02031481, -0.02369663,  0.02218337,  0.00537852,\n",
       "          0.02510735, -0.03524395,  0.04487472,  0.02113148,\n",
       "          0.01028474,  0.01632186],\n",
       "        [-0.00223855, -0.02651042,  0.00315696,  0.00453655,\n",
       "         -0.03210361,  0.01778679,  0.03368684,  0.00613065,\n",
       "         -0.03249093,  0.01619928],\n",
       "        [-0.03250319, -0.01536297, -0.03655603,  0.00152124,\n",
       "         -0.01342637, -0.04203659, -0.04208932,  0.04341363,\n",
       "          0.04569923,  0.00726372]]], dtype=float32)"
      ]
     },
     "execution_count": 69,
     "metadata": {},
     "output_type": "execute_result"
    }
   ],
   "source": [
    "model.predict(embedding_docs)"
   ]
  },
  {
   "cell_type": "code",
   "execution_count": null,
   "id": "19f69e18",
   "metadata": {},
   "outputs": [],
   "source": []
  },
  {
   "cell_type": "code",
   "execution_count": null,
   "id": "2b426e3c",
   "metadata": {},
   "outputs": [],
   "source": []
  },
  {
   "cell_type": "code",
   "execution_count": null,
   "id": "11e1e88b",
   "metadata": {},
   "outputs": [],
   "source": []
  },
  {
   "cell_type": "code",
   "execution_count": null,
   "id": "5aca5726",
   "metadata": {},
   "outputs": [],
   "source": []
  },
  {
   "cell_type": "code",
   "execution_count": null,
   "id": "5fffad80",
   "metadata": {},
   "outputs": [],
   "source": []
  },
  {
   "cell_type": "code",
   "execution_count": null,
   "id": "69d0d023",
   "metadata": {},
   "outputs": [],
   "source": []
  },
  {
   "cell_type": "code",
   "execution_count": null,
   "id": "a1298e2e",
   "metadata": {},
   "outputs": [],
   "source": []
  },
  {
   "cell_type": "code",
   "execution_count": null,
   "id": "7eef669a",
   "metadata": {},
   "outputs": [],
   "source": []
  },
  {
   "cell_type": "code",
   "execution_count": null,
   "id": "0bf5f94c",
   "metadata": {},
   "outputs": [],
   "source": []
  },
  {
   "cell_type": "code",
   "execution_count": null,
   "id": "127809fb",
   "metadata": {},
   "outputs": [],
   "source": []
  },
  {
   "cell_type": "code",
   "execution_count": null,
   "id": "b93f010c",
   "metadata": {},
   "outputs": [],
   "source": []
  },
  {
   "cell_type": "code",
   "execution_count": null,
   "id": "6fb2bbf4",
   "metadata": {},
   "outputs": [],
   "source": []
  },
  {
   "cell_type": "code",
   "execution_count": null,
   "id": "9efe9326",
   "metadata": {},
   "outputs": [],
   "source": []
  },
  {
   "cell_type": "code",
   "execution_count": null,
   "id": "4011ae76",
   "metadata": {},
   "outputs": [],
   "source": []
  },
  {
   "cell_type": "code",
   "execution_count": null,
   "id": "edc54d2a",
   "metadata": {},
   "outputs": [],
   "source": []
  },
  {
   "cell_type": "code",
   "execution_count": null,
   "id": "148a8f8b",
   "metadata": {},
   "outputs": [],
   "source": []
  }
 ],
 "metadata": {
  "kernelspec": {
   "display_name": "base",
   "language": "python",
   "name": "python3"
  },
  "language_info": {
   "codemirror_mode": {
    "name": "ipython",
    "version": 3
   },
   "file_extension": ".py",
   "mimetype": "text/x-python",
   "name": "python",
   "nbconvert_exporter": "python",
   "pygments_lexer": "ipython3",
   "version": "3.12.7"
  }
 },
 "nbformat": 4,
 "nbformat_minor": 5
}
